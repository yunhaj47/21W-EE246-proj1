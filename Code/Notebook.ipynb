{
 "cells": [
  {
   "cell_type": "markdown",
   "metadata": {},
   "source": [
    "# Section \\#1: Centralized Algorithms"
   ]
  },
  {
   "cell_type": "markdown",
   "metadata": {},
   "source": [
    "## Section \\#1.1: LINEAR REGRESSION\n",
    "\n",
    "Please follow our instructions in the same order to solve the linear regresssion problem.\n",
    "\n",
    "Please print out the entire results and codes when completed."
   ]
  },
  {
   "cell_type": "code",
   "execution_count": 1,
   "metadata": {},
   "outputs": [],
   "source": [
    "import numpy as np\n",
    "import matplotlib.pyplot as plt\n",
    "import random\n",
    "import csv\n",
    "from data_load import load\n",
    "import scipy.io as io\n",
    "# Load matplotlib images inline\n",
    "%matplotlib inline\n",
    "# These are important for reloading any code you write in external .py files.\n",
    "# see http://stackoverflow.com/questions/1907993/autoreload-of-modules-in-ipython\n",
    "%load_ext autoreload\n",
    "%autoreload 2"
   ]
  },
  {
   "cell_type": "code",
   "execution_count": 2,
   "metadata": {},
   "outputs": [
    {
     "name": "stdout",
     "output_type": "stream",
     "text": [
      "Train data shape:  (20, 1)\n",
      "Train target shape:  (20,)\n",
      "Validation data shape:  (20, 1)\n",
      "Validation target shape:  (20,)\n",
      "Test data shape:  (20, 1)\n",
      "Test target shape:  (20,)\n"
     ]
    }
   ],
   "source": [
    "def get_data():\n",
    "    \"\"\"\n",
    "    Load the dataset from disk and perform preprocessing to prepare it for the linear regression problem.   \n",
    "    \"\"\"\n",
    "    X_train, y_train = load('regression_train.csv')\n",
    "    X_val, y_val = load('regression_val.csv')\n",
    "    X_test, y_test = load('regression_test.csv')\n",
    "    return X_train, y_train, X_val, y_val, X_test, y_test\n",
    "\n",
    "X_train, y_train, X_val, y_val, X_test, y_test= get_data()  \n",
    "\n",
    "\n",
    "print('Train data shape: ', X_train.shape)\n",
    "print('Train target shape: ', y_train.shape)\n",
    "print('Validation data shape: ',X_val.shape)\n",
    "print('Validation target shape: ',y_val.shape)\n",
    "print('Test data shape: ',X_test.shape)\n",
    "print('Test target shape: ',y_test.shape)"
   ]
  },
  {
   "cell_type": "markdown",
   "metadata": {},
   "source": [
    "### Visualization\n",
    "What do you observe? For example, can you make an educated guess on the effectiveness of linear regression in predicting the data?\n",
    "\n",
    "The training and testing data seems like generated according to some trigonometry function \n",
    "so we don’t expect the linear regression to behave well on this dataset."
   ]
  },
  {
   "cell_type": "code",
   "execution_count": 3,
   "metadata": {},
   "outputs": [
    {
     "data": {
      "image/png": "[encoded data removed]",
      "text/plain": [
       "<Figure size 432x288 with 1 Axes>"
      ]
     },
     "metadata": {
      "needs_background": "light"
     },
     "output_type": "display_data"
    }
   ],
   "source": [
    "## Plot the training and test data ##\n",
    "\n",
    "plt.plot(X_train, y_train,'o', color='black')\n",
    "plt.plot(X_test, y_test,'o', color='blue')\n",
    "plt.xlabel('Train data')\n",
    "plt.ylabel('Target')\n",
    "plt.show()"
   ]
  },
  {
   "cell_type": "markdown",
   "metadata": {},
   "source": [
    "### Training Linear Regression\n",
    "\n",
    "In the following cells, you will build a linear regression. You will implement its loss function, then subsequently train it with gradient descent. You will choose the learning rate of gradient descent to optimize its classification performance. Finally, you will get the opimal solution using closed form expression."
   ]
  },
  {
   "cell_type": "markdown",
   "metadata": {},
   "source": [
    "### Linear regression\n",
    "\n",
    "For the GD solution, \n",
    "\n",
    "- the loss we get with initialization w to all zeros is [2.01169237]\n",
    "- the gradient of the first iteration is [[-2.2602119 ][-0.67366233]]\n",
    "- the final value of the loss function is [0.27469573]\n",
    "- the value of the weight w is [[ 1.91573585][-1.74358989]]\n",
    "\n",
    "\n",
    "Try different learning rates, batch sizes (e.g. full, stochastic), and number of iterations. What do you find works best for producing the best loss function value?\n",
    "\n",
    "optimal parameters combination is: \n",
    "- eta = 0.01 \n",
    "- batch_size = 20 \n",
    "- num_iters = 15000\n",
    "- optimal loss is [0.19562882]\n",
    "- optimal weights is [[ 2.44640699][-2.81635338]]\n",
    "\n",
    "For the close form solution,\n",
    "\n",
    "- the optimal weights w is [[ 2.44640709][-2.81635359]]\n",
    "- the loss is [0.19562882]\n",
    "\n",
    "Compare the best GD solution with the closed form solution\n",
    "\n",
    "\n"
   ]
  },
  {
   "cell_type": "code",
   "execution_count": 4,
   "metadata": {},
   "outputs": [],
   "source": [
    "from Regression import Regression"
   ]
  },
  {
   "cell_type": "code",
   "execution_count": 5,
   "metadata": {},
   "outputs": [
    {
     "name": "stdout",
     "output_type": "stream",
     "text": [
      "[2.01169237]\n",
      "[[-2.2602119 ]\n",
      " [-0.67366233]]\n"
     ]
    }
   ],
   "source": [
    "## Complete loss_and_grad function in Regression.py file and test your results.\n",
    "regression = Regression(m=1, reg_param=0)\n",
    "loss, grad = regression.loss_and_grad(X_train,y_train)\n",
    "print(loss)\n",
    "print(grad)\n",
    "##"
   ]
  },
  {
   "cell_type": "code",
   "execution_count": 6,
   "metadata": {},
   "outputs": [
    {
     "data": {
      "image/png": "[encoded data removed]",
      "text/plain": [
       "<Figure size 432x288 with 1 Axes>"
      ]
     },
     "metadata": {
      "needs_background": "light"
     },
     "output_type": "display_data"
    },
    {
     "name": "stdout",
     "output_type": "stream",
     "text": [
      "[[ 1.91573585]\n",
      " [-1.74358989]]\n",
      "[0.27469573]\n"
     ]
    }
   ],
   "source": [
    "## Complete train_LR function in Regression.py file \n",
    "regression = Regression(m=1, reg_param=0)\n",
    "loss_history, w = regression.train_LR(X_train,y_train, eta=1e-3,batch_size=20, num_iters=10000) # original set as 10000\n",
    "plt.plot(loss_history)\n",
    "plt.xlabel('iterations')\n",
    "plt.ylabel('Loss function')\n",
    "plt.show()\n",
    "print(w)\n",
    "print(loss_history[9999])"
   ]
  },
  {
   "cell_type": "code",
   "execution_count": 7,
   "metadata": {},
   "outputs": [
    {
     "name": "stdout",
     "output_type": "stream",
     "text": [
      "optimal parameters combination is: \n",
      "eta = 0.01 \n",
      "batch_size = 20 \n",
      "num_iters = 15000\n",
      "optimal loss is [0.19562882]\n",
      "optimal weights is [[ 2.44640699]\n",
      " [-2.81635338]]\n"
     ]
    }
   ],
   "source": [
    "# TODO: select the best combination of hyperparameters\n",
    "# play with\n",
    "# stepsize: eta\n",
    "# batchsize: batch_size\n",
    "# number of iterations: num_iters\n",
    "\n",
    "m = 1\n",
    "opt_loss = float(\"inf\")\n",
    "opt_w = np.zeros(m+1)\n",
    "opt_param_comb = {}\n",
    "\n",
    "eta_ls = [1e-2, 1e-3] # learning rates list\n",
    "batch_size_ls = [1, 5, 10, 15, 20]\n",
    "num_iters_ls = [2500, 5000, 10000, 15000]\n",
    "\n",
    "for eta in eta_ls:\n",
    "    for batch_size in batch_size_ls:\n",
    "        for num_iters in num_iters_ls:\n",
    "            regression = Regression(m=m, reg_param=0)\n",
    "            loss_history, w = regression.train_LR(X_train,y_train, eta=eta,batch_size=batch_size, num_iters=num_iters)\n",
    "\n",
    "            # calculate the loss on the whole training dataset\n",
    "            # using the final weight\n",
    "            y_pred = regression.predict(X_train)\n",
    "            y_true = y_train.reshape(-1,1)\n",
    "            loss = ((y_pred - y_true).T @ (y_pred - y_true) / X_train.shape[0])[0]\n",
    "            \n",
    "            if loss < opt_loss:\n",
    "                opt_loss = loss\n",
    "                opt_w = w\n",
    "                opt_param_comb['eta'] = eta\n",
    "                opt_param_comb['batch_size'] = batch_size\n",
    "                opt_param_comb['num_iters'] = num_iters\n",
    "                \n",
    "print('optimal parameters combination is: \\neta = {} \\nbatch_size = {} \\nnum_iters = {}' \\\n",
    "        .format(opt_param_comb['eta'], opt_param_comb['batch_size'], opt_param_comb['num_iters']))\n",
    "print('optimal loss is', opt_loss)\n",
    "print('optimal weights is', opt_w)\n"
   ]
  },
  {
   "cell_type": "code",
   "execution_count": 8,
   "metadata": {},
   "outputs": [
    {
     "name": "stdout",
     "output_type": "stream",
     "text": [
      "[0.19562882]\n",
      "[[ 2.44640709]\n",
      " [-2.81635359]]\n"
     ]
    }
   ],
   "source": [
    "## Complete closed_form function in Regression.py file\n",
    "loss_2, w_2 = regression.closed_form(X_train, y_train)\n",
    "print(loss_2)\n",
    "print(w_2)"
   ]
  },
  {
   "cell_type": "markdown",
   "metadata": {},
   "source": [
    "### Polynomial regression\n",
    "Plot the figures and values of the loss function for the case m = 3.\n",
    "\n",
    "for the GD solution, \n",
    "\n",
    "- the loss we get with initialization w to all zeros is [2.01169237]\n",
    "- the gradient of the first iteration is [[-2.2602119 ][-0.67366233][-0.28489868][-0.15581189]]\n",
    "- the final value of the loss function is [0.23928099]\n",
    "- the value of the weight w is [[ 1.95302357][-0.86903243][-1.0001872 ][-0.72779719]]\n",
    "\n",
    "for the closed form solution,\n",
    "\n",
    "- the optimal weights w is [[ 1.95302357][-0.86903243][-1.0001872 ][-0.72779719]]\n",
    "- the loss is [0.05966745]\n",
    "\n",
    "Compare the best GD solution with the closed form solution\n"
   ]
  },
  {
   "cell_type": "code",
   "execution_count": 9,
   "metadata": {},
   "outputs": [
    {
     "name": "stdout",
     "output_type": "stream",
     "text": [
      "[2.01169237]\n",
      "[[-2.2602119 ]\n",
      " [-0.67366233]\n",
      " [-0.28489868]\n",
      " [-0.15581189]]\n"
     ]
    }
   ],
   "source": [
    "## for m = 3\n",
    "regression = Regression(m=3, reg_param=0)\n",
    "loss, grad = regression.loss_and_grad(X_train,y_train)\n",
    "print(loss)\n",
    "print(grad)\n",
    "##"
   ]
  },
  {
   "cell_type": "code",
   "execution_count": 10,
   "metadata": {},
   "outputs": [
    {
     "data": {
      "image/png": "[encoded data removed]",
      "text/plain": [
       "<Figure size 432x288 with 1 Axes>"
      ]
     },
     "metadata": {
      "needs_background": "light"
     },
     "output_type": "display_data"
    },
    {
     "name": "stdout",
     "output_type": "stream",
     "text": [
      "[[ 1.95302357]\n",
      " [-0.86903243]\n",
      " [-1.0001872 ]\n",
      " [-0.72779719]]\n",
      "[0.23928099]\n"
     ]
    }
   ],
   "source": [
    "## for m = 3\n",
    "loss_history, w = regression.train_LR(X_train,y_train, eta=1e-3,batch_size=20, num_iters=10000) # original set as 10000\n",
    "plt.plot(loss_history)\n",
    "plt.xlabel('iterations')\n",
    "plt.ylabel('Loss function')\n",
    "plt.show()\n",
    "print(w)\n",
    "print(loss_history[9999]) # The final value of the loss function"
   ]
  },
  {
   "cell_type": "code",
   "execution_count": 11,
   "metadata": {},
   "outputs": [
    {
     "name": "stdout",
     "output_type": "stream",
     "text": [
      "[0.05966745]\n",
      "[[  1.22314252]\n",
      " [ 10.64961621]\n",
      " [-34.08367975]\n",
      " [ 23.5902309 ]]\n"
     ]
    }
   ],
   "source": [
    "## for m = 3\n",
    "loss_3, w_3 = regression.closed_form(X_train, y_train)\n",
    "print(loss_3)\n",
    "print(w_3)"
   ]
  },
  {
   "cell_type": "code",
   "execution_count": 12,
   "metadata": {},
   "outputs": [
    {
     "name": "stdout",
     "output_type": "stream",
     "text": [
      "optimal parameters combination is: \n",
      "eta = 0.5 \n",
      "batch_size = 20 \n",
      "num_iters = 50000\n",
      "optimal loss is [0.0598055]\n",
      "optimal weights is [[  1.2689087 ]\n",
      " [ 10.18251576]\n",
      " [-32.96326121]\n",
      " [ 22.84428624]]\n"
     ]
    }
   ],
   "source": [
    "# TODO: select the best combination of hyperparameters\n",
    "# play with\n",
    "# stepsize: eta\n",
    "# batchsize: batch_size\n",
    "# number of iterations: num_iters\n",
    "\n",
    "m = 3 # The degree of the polynomials\n",
    "opt_loss = float(\"inf\")\n",
    "opt_w = np.zeros(m+1)\n",
    "opt_param_comb = {}\n",
    "\n",
    "eta_ls = [5e-1, 1e-1] # learning rates list\n",
    "batch_size_ls = [1, 5, 10, 15, 20]\n",
    "num_iters_ls = [30000, 40000, 50000]\n",
    "for eta in eta_ls:\n",
    "    for batch_size in batch_size_ls:\n",
    "        for num_iters in num_iters_ls:\n",
    "            regression = Regression(m=m, reg_param=0)\n",
    "            loss_history, w = regression.train_LR(X_train,y_train, eta=eta,batch_size=batch_size, num_iters=num_iters)\n",
    "            \n",
    "            # calculate the loss on the whole training dataset\n",
    "            # using the final weight\n",
    "            y_pred = regression.predict(X_train)\n",
    "            y_true = y_train.reshape(-1,1)\n",
    "            loss = ((y_pred - y_true).T @ (y_pred - y_true) / X_train.shape[0])[0]\n",
    "            \n",
    "            \n",
    "            if loss < opt_loss:\n",
    "                opt_loss = loss\n",
    "                opt_w = w\n",
    "                opt_param_comb['eta'] = eta\n",
    "                opt_param_comb['batch_size'] = batch_size\n",
    "                opt_param_comb['num_iters'] = num_iters\n",
    "\n",
    "\n",
    "print('optimal parameters combination is: \\neta = {} \\nbatch_size = {} \\nnum_iters = {}' \\\n",
    "        .format(opt_param_comb['eta'], opt_param_comb['batch_size'], opt_param_comb['num_iters']))\n",
    "\n",
    "print('optimal loss is', opt_loss)\n",
    "print('optimal weights is', opt_w)"
   ]
  },
  {
   "cell_type": "markdown",
   "metadata": {},
   "source": [
    "### Overfitting\n",
    "\n",
    "The polynomial model of degree 10 best fits the data, but it can be observed from the plot that although it perfectly fits the training data, it causes overfitting, which deteriorate much on the test set, thus, we'd better choose the model between degree 3 to degree 5 to balance this trade-off."
   ]
  },
  {
   "cell_type": "code",
   "execution_count": 14,
   "metadata": {},
   "outputs": [
    {
     "name": "stdout",
     "output_type": "stream",
     "text": [
      "The best polynomial regression model on the training data is 10\n"
     ]
    },
    {
     "data": {
      "image/png": "[encoded data removed]",
      "text/plain": [
       "<Figure size 432x288 with 1 Axes>"
      ]
     },
     "metadata": {
      "needs_background": "light"
     },
     "output_type": "display_data"
    }
   ],
   "source": [
    "train_loss=np.zeros((10,1))\n",
    "test_loss=np.zeros((10,1))\n",
    "# ================================================================ #\n",
    "# YOUR CODE HERE:\n",
    "# complete the following code to plot both the training and test loss in the same plot\n",
    "# for m range from 1 to 10\n",
    "# ================================================================ #\n",
    "\n",
    "# determine the best polynomial regression model on the training data\n",
    "opt_train_loss = float(\"inf\")\n",
    "opt_degree = 1\n",
    "\n",
    "for m in range(1,11):\n",
    "    \n",
    "    regression = Regression(m=m, reg_param=0)\n",
    "    train_loss_val, w = regression.closed_form(X_train, y_train)\n",
    "    \n",
    "    # calculate the test loss\n",
    "    y_test_pred = regression.predict(X_test)\n",
    "    y_test = y_test.reshape(-1,1)\n",
    "    test_loss_val = ((np.transpose(y_test_pred - y_test) @ (y_test_pred - y_test)) / X_test.shape[0])[0] \n",
    "    \n",
    "    train_loss[m - 1] = train_loss_val\n",
    "    test_loss[m - 1] = test_loss_val\n",
    "    \n",
    "    if train_loss_val < opt_train_loss:\n",
    "        opt_train_loss = train_loss_val\n",
    "        opt_degree = m\n",
    "        \n",
    "\n",
    "print('The best polynomial regression model on the training data is', opt_degree)\n",
    "    \n",
    "# Generate a plot depicting how loss varies with model complexity (polynomial degree). \n",
    "# You should generate a single plot with both training and test error.\n",
    "# Which degree polynomial would you say best fits the data?\n",
    "# Use your plot to justify your answer.\n",
    "\n",
    "# plot the figure\n",
    "\n",
    "degree = np.arange(1,11)\n",
    "\n",
    "plt.plot(degree, train_loss, 'o-', label = \"train loss\")\n",
    "plt.plot(degree, test_loss, 'o-', label = \"test loss\")\n",
    "\n",
    "plt.xlabel('polynomial degree')\n",
    "plt.ylabel('loss')\n",
    "\n",
    "# Set a title of the current axes.\n",
    "plt.title('Training and test loss versus model compleity ')\n",
    "\n",
    "# show a legend on the plot\n",
    "plt.legend()\n",
    "\n",
    "plt.xticks(degree)\n",
    "\n",
    "# Display a figure.\n",
    "plt.show()\n",
    "\n",
    "# ================================================================ #\n",
    "# END YOUR CODE HERE\n",
    "# ================================================================ #\n",
    "\n"
   ]
  },
  {
   "cell_type": "markdown",
   "metadata": {},
   "source": [
    "### Regularization\n",
    "\n",
    "we use m=3 with regularizer, re_param = 0.01 to repeat(e)-(f)\n",
    "\n",
    "For the GD slution, \n",
    "\n",
    "- the final value of the loss function using GD is [0.27233786]\n",
    "- the value of the weight w is [[ 1.91267791][-0.83048671][-0.96516108][-0.70714312]]\\\n",
    "\n",
    "For the closed form solution,\n",
    "\n",
    "- the weights is [[ 2.22033337][-1.7855083 ][-1.25312518][ 0.46296531]]\n",
    "- the loss is [0.24633436]\n"
   ]
  },
  {
   "cell_type": "code",
   "execution_count": 15,
   "metadata": {},
   "outputs": [
    {
     "data": {
      "image/png": "[encoded data removed]",
      "text/plain": [
       "<Figure size 432x288 with 1 Axes>"
      ]
     },
     "metadata": {
      "needs_background": "light"
     },
     "output_type": "display_data"
    },
    {
     "name": "stdout",
     "output_type": "stream",
     "text": [
      "[[ 1.91267791]\n",
      " [-0.83048671]\n",
      " [-0.96516108]\n",
      " [-0.70714312]]\n",
      "[0.27233786]\n"
     ]
    }
   ],
   "source": [
    "## we use m = 3, reg_params = 0.01\n",
    "regression = Regression(m=3, reg_param=0.01)\n",
    "loss_history, w = regression.train_LR(X_train,y_train, eta=1e-3,batch_size=20, num_iters=10000) # original set as 10000\n",
    "plt.plot(loss_history)\n",
    "plt.xlabel('iterations')\n",
    "plt.ylabel('Loss function')\n",
    "plt.show()\n",
    "print(w)\n",
    "print(loss_history[9999]) # The final value of the loss function"
   ]
  },
  {
   "cell_type": "code",
   "execution_count": 19,
   "metadata": {},
   "outputs": [
    {
     "name": "stdout",
     "output_type": "stream",
     "text": [
      "optimal parameters combination is: \n",
      "eta = 0.1 \n",
      "batch_size = 20 \n",
      "num_iters = 40000\n",
      "optimal loss is [0.24633436]\n",
      "optimal weights is [[ 2.22033337]\n",
      " [-1.7855083 ]\n",
      " [-1.25312518]\n",
      " [ 0.46296531]]\n"
     ]
    }
   ],
   "source": [
    "# TODO: select the best combination of hyperparameters\n",
    "# play with\n",
    "# stepsize: eta\n",
    "# batchsize: batch_size\n",
    "# number of iterations: num_iters\n",
    "\n",
    "m = 3 # The degree of the polynomials\n",
    "reg_param = 0.01\n",
    "opt_loss = float(\"inf\")\n",
    "opt_w = np.zeros(m+1)\n",
    "opt_param_comb = {}\n",
    "\n",
    "eta_ls = [6e-1, 5e-1, 1e-1, 1e-2] # learning rates list\n",
    "batch_size_ls = [1, 5, 10, 15, 20]\n",
    "num_iters_ls = [40000, 50000, 55000]\n",
    "for eta in eta_ls:\n",
    "    for batch_size in batch_size_ls:\n",
    "        for num_iters in num_iters_ls:\n",
    "            \n",
    "            regression = Regression(m=m, reg_param=reg_param)\n",
    "            loss_history, w = regression.train_LR(X_train,y_train, eta=eta,batch_size=batch_size, num_iters=num_iters)\n",
    "            \n",
    "            # calculate the loss on the whole training dataset\n",
    "            # using the final weight\n",
    "            y_pred = regression.predict(X_train)\n",
    "            y_true = y_train.reshape(-1,1)\n",
    "            loss = ((y_pred - y_true).T @ (y_pred - y_true) / X_train.shape[0])[0] + (reg_param / 2) * (w.T @ w)[0]\n",
    "            \n",
    "            \n",
    "            if loss < opt_loss:\n",
    "                opt_loss = loss\n",
    "                opt_w = w\n",
    "                opt_param_comb['eta'] = eta\n",
    "                opt_param_comb['batch_size'] = batch_size\n",
    "                opt_param_comb['num_iters'] = num_iters\n",
    "\n",
    "\n",
    "print('optimal parameters combination is: \\neta = {} \\nbatch_size = {} \\nnum_iters = {}' \\\n",
    "        .format(opt_param_comb['eta'], opt_param_comb['batch_size'], opt_param_comb['num_iters']))\n",
    "\n",
    "print('optimal loss is', opt_loss)\n",
    "print('optimal weights is', opt_w)"
   ]
  },
  {
   "cell_type": "code",
   "execution_count": 334,
   "metadata": {},
   "outputs": [
    {
     "name": "stdout",
     "output_type": "stream",
     "text": [
      "[0.24633436]\n",
      "[[ 2.22033337]\n",
      " [-1.7855083 ]\n",
      " [-1.25312518]\n",
      " [ 0.46296531]]\n"
     ]
    }
   ],
   "source": [
    "## for m = 3 with regularizer\n",
    "loss_3_reg, w_3_reg = regression.closed_form(X_train, y_train)\n",
    "print(loss_3_reg)\n",
    "print(w_3_reg)"
   ]
  },
  {
   "cell_type": "code",
   "execution_count": 21,
   "metadata": {},
   "outputs": [
    {
     "name": "stdout",
     "output_type": "stream",
     "text": [
      "The regularization coefficient minimizes the test loss is 1e-06\n"
     ]
    },
    {
     "data": {
      "image/png": "[encoded data removed]",
      "text/plain": [
       "<Figure size 432x288 with 1 Axes>"
      ]
     },
     "metadata": {
      "needs_background": "light"
     },
     "output_type": "display_data"
    }
   ],
   "source": [
    "train_loss=np.zeros((10,1))\n",
    "test_loss=np.zeros((10,1))\n",
    "# ================================================================ #\n",
    "# YOUR CODE HERE:\n",
    "# complete the following code to plot both the training and test loss in the same plot\n",
    "# for lambda from set of values given.\n",
    "# ================================================================ #\n",
    "\n",
    "m = 10 # degree 10 polynomial model\n",
    "\n",
    "reg_ls = np.logspace(-8, 0, 9, endpoint=True)\n",
    "reg_ls = [0] + list(reg_ls)\n",
    "\n",
    "# determine the best reg_param that minimize the error for a degree 10 polynomial\n",
    "opt_test_loss = float(\"inf\")\n",
    "opt_reg = 0.0\n",
    "\n",
    "for i in range(0,10):\n",
    "    reg = reg_ls[i]\n",
    "    regression = Regression(m=m, reg_param=reg)\n",
    "    train_loss_val, w = regression.closed_form(X_train, y_train)\n",
    "    \n",
    "    # calculate the test loss\n",
    "    y_test_pred = regression.predict(X_test)\n",
    "    y_test = y_test.reshape(-1,1)\n",
    "    test_loss_val = ((np.transpose(y_test_pred - y_test) @ (y_test_pred - y_test)) / X_test.shape[0])[0] + \\\n",
    "                        (reg / 2) * (w.T @ w)[0]\n",
    "    \n",
    "    train_loss[i] = train_loss_val\n",
    "    test_loss[i] = test_loss_val\n",
    "    \n",
    "    if test_loss_val < opt_test_loss:\n",
    "        opt_test_loss = test_loss_val\n",
    "        opt_reg = reg\n",
    "        \n",
    "\n",
    "print('The regularization coefficient minimizes the test loss is', opt_reg)\n",
    "    \n",
    "# Generate a plot depicting how loss varies with model complexity (polynomial degree). \n",
    "# You should generate a single plot with both training and test error.\n",
    "# Which degree polynomial would you say best fits the data?\n",
    "# Use your plot to justify your answer.\n",
    "\n",
    "# plot the figure\n",
    "\n",
    "log_scale = np.arange(1,11)\n",
    "\n",
    "plt.plot(log_scale, train_loss, 'o-', label = \"train loss\")\n",
    "plt.plot(log_scale, test_loss, 'o-', label = \"test loss\")\n",
    "\n",
    "plt.xlabel('regularization coefficient')\n",
    "plt.ylabel('loss')\n",
    "\n",
    "# Set a title of the current axes.\n",
    "plt.title('Training and test loss versus regularization coefficient')\n",
    "\n",
    "# show a legend on the plot\n",
    "plt.legend()\n",
    "\n",
    "plt.xticks(log_scale)\n",
    "\n",
    "# Display a figure.\n",
    "plt.show()\n",
    "\n",
    "\n",
    "# ================================================================ #\n",
    "# END YOUR CODE HERE\n",
    "# ================================================================ #"
   ]
  },
  {
   "cell_type": "markdown",
   "metadata": {},
   "source": [
    "## Section \\#1.2: Binary Classification \n",
    "\n",
    "Please follow our instructions in the same order to solve the binary classification problem.\n",
    "\n",
    "Please print out the entire results and codes when completed."
   ]
  },
  {
   "cell_type": "markdown",
   "metadata": {},
   "source": [
    "### Visualization\n",
    "What is the dimensions of $X_{train}$ and $X_{test}$?\n",
    "\n",
    "- The dimension of $X_{train}$ is (5000, 784)\n",
    "- The dimension of $X_{test}$ is (500, 784)"
   ]
  },
  {
   "cell_type": "code",
   "execution_count": 22,
   "metadata": {},
   "outputs": [
    {
     "name": "stdout",
     "output_type": "stream",
     "text": [
      "Train data shape:  (5000, 784)\n",
      "Train target shape:  (5000, 1)\n",
      "Test data shape:  (500, 784)\n",
      "Test target shape:  (500, 1)\n"
     ]
    }
   ],
   "source": [
    "\"\"\"\n",
    "Load the dataset from disk and perform preprocessing to prepare it for the linear regression problem.   \n",
    "\"\"\"\n",
    "train = io.loadmat('mnist_train')\n",
    "test = io.loadmat('mnist_test')\n",
    "X_train = train['X_train']\n",
    "y_train = np.transpose(train['y_train'])\n",
    "X_test = test['X_test']\n",
    "y_test = np.transpose(test['y_test'])\n",
    "\n",
    "print('Train data shape: ', X_train.shape)\n",
    "print('Train target shape: ', y_train.shape)\n",
    "print('Test data shape: ',X_test.shape)\n",
    "print('Test target shape: ',y_test.shape)\n"
   ]
  },
  {
   "cell_type": "code",
   "execution_count": 23,
   "metadata": {},
   "outputs": [
    {
     "data": {
      "image/png": "[encoded data removed]",
      "text/plain": [
       "<Figure size 432x288 with 1 Axes>"
      ]
     },
     "metadata": {
      "needs_background": "light"
     },
     "output_type": "display_data"
    },
    {
     "name": "stdout",
     "output_type": "stream",
     "text": [
      "label is 3\n"
     ]
    }
   ],
   "source": [
    "# To Visualize a point in the dataset\n",
    "index = 4000\n",
    "X = np.array(X_train[index], dtype='uint8')\n",
    "X = X.reshape((28, 28))\n",
    "fig = plt.figure()\n",
    "plt.imshow(X, cmap='gray')\n",
    "plt.show()\n",
    "fig.savefig('Sample.pdf')\n",
    "if y_train[index] == 1:\n",
    "    label = 3\n",
    "else:\n",
    "    label = 2\n",
    "print('label is', label)"
   ]
  },
  {
   "cell_type": "markdown",
   "metadata": {},
   "source": [
    "## Train Perceptron\n",
    "In the following cells, you will build Perceptron Algorithm."
   ]
  },
  {
   "cell_type": "markdown",
   "metadata": {},
   "source": [
    "### Perceptron\n",
    "\n",
    "Let the maximum number of iterations of the Algorithm numiter = N.\n",
    "\n",
    "Does Perceptron Algorithm converge? prove your claim.\n",
    "\n",
    "- From the history of the loss function we know that the perceptron will never converge on this dataset since the , this implies that these two classes are not linearly seperable. This implies that if we add to the maximum iterations, the training loss will not reduce to zero.\n",
    "\n",
    "What is the final value of the loss function and the value l2 of the weight ||w||2?\n",
    "\n",
    "- The final value of the loss function is 0.0328\n",
    "\n",
    "- The squared L2 norm of the weight is [6.62814956e+08]"
   ]
  },
  {
   "cell_type": "code",
   "execution_count": 24,
   "metadata": {},
   "outputs": [
    {
     "name": "stdout",
     "output_type": "stream",
     "text": [
      "The final value of the loss function is 0.0328\n",
      "The squared L2 norm of the weights is [6.62814956e+08]\n"
     ]
    },
    {
     "data": {
      "image/png": "[encoded data removed]",
      "text/plain": [
       "<Figure size 432x288 with 1 Axes>"
      ]
     },
     "metadata": {
      "needs_background": "light"
     },
     "output_type": "display_data"
    }
   ],
   "source": [
    "N = X_train.shape[0] # Number of data point\n",
    "d = X_train.shape[1] # Number of features\n",
    "loss_hist = []\n",
    "W = np.zeros((d,1))\n",
    "# ================================================================ #\n",
    "# YOUR CODE HERE:\n",
    "# Implement the perceptron Algorithm and compute the number of misclassified points at each training step\n",
    "# ================================================================ #\n",
    "\n",
    "max_iters = N\n",
    "\n",
    "for i in range(0, N):\n",
    "    \n",
    "    x_sample = X_train[i].reshape((-1, 1))\n",
    "    y_sample = y_train[i]\n",
    "    \n",
    "    y_pred = np.sign(W.T @ x_sample)[0]\n",
    "    \n",
    "    if y_sample * y_pred <= 0:      # update weights\n",
    "        W = W + (y_sample * x_sample) \n",
    "    \n",
    "    # compute the percentage of misclassified points in the training dataset\n",
    "    y_pred_total = np.sign(X_train @ W)\n",
    "    num_missed = np.sum(y_train != y_pred_total)\n",
    "    loss_hist.append(num_missed / N)\n",
    "    \n",
    "print('The final value of the loss function is', loss_hist[-1])\n",
    "print('The squared L2 norm of the weights is', (W.T @ W)[0])\n",
    "\n",
    "# Plot the history of he loss function\n",
    "\n",
    "plt.plot(loss_hist)\n",
    "plt.xlabel('iters')\n",
    "plt.ylabel('loss')\n",
    "plt.title('The loss of the perceptron learning versus iterations')\n",
    "plt.show()\n",
    "\n",
    "# ================================================================ #\n",
    "# END YOUR CODE HERE\n",
    "# ================================================================ #"
   ]
  },
  {
   "cell_type": "code",
   "execution_count": 25,
   "metadata": {},
   "outputs": [
    {
     "name": "stdout",
     "output_type": "stream",
     "text": [
      "The percentage of misclassified points in the test data for perceptron is 4.4%.\n"
     ]
    }
   ],
   "source": [
    "# Compute the percentage of misclassified points in the test data for perceptron\n",
    "y_pred_test = np.sign(X_test @ W)\n",
    "num_missed = np.sum(y_test != y_pred_test)\n",
    "print('The percentage of misclassified points in the test data for perceptron is {}%.' \\\n",
    "      .format(100 * num_missed / (X_test.shape[0])))"
   ]
  },
  {
   "cell_type": "markdown",
   "metadata": {},
   "source": [
    "## Train Logistic Regression\n",
    "\n",
    "In the following cells, you will build a logistic regression. You will implement its loss function, then subsequently train it with gradient descent. "
   ]
  },
  {
   "cell_type": "markdown",
   "metadata": {},
   "source": [
    "### Logistic Regression\n",
    "What is the final value of the loss function and the value L2 of the weight ||w||2?\n",
    "\n",
    "- The final value of the loss function is 0.04278378895948997\n",
    "\n",
    "- The squared L2 norm of the weight is 0.00030104046329923495\n",
    "\n",
    "#### Logistic Regression and Batch Size\n",
    "\n",
    "Which batch size gives the minimum test error?\n",
    "\n",
    "- Batch size = 50 gives the minimum test error"
   ]
  },
  {
   "cell_type": "code",
   "execution_count": 26,
   "metadata": {},
   "outputs": [],
   "source": [
    "from Logistic import Logistic"
   ]
  },
  {
   "cell_type": "code",
   "execution_count": 27,
   "metadata": {},
   "outputs": [
    {
     "name": "stdout",
     "output_type": "stream",
     "text": [
      "Loss function= 0.6931471805599454\n",
      "78885.26903007003\n"
     ]
    }
   ],
   "source": [
    "# Complete loss_and_grad function in Logistic.py file and test your results.\n",
    "N,d = X_train.shape\n",
    "logistic = Logistic(d=d, reg_param=0)\n",
    "loss, grad = logistic.loss_and_grad(X_train,y_train)\n",
    "print('Loss function=',loss)\n",
    "print(np.linalg.norm(grad,ord=2)**2)"
   ]
  },
  {
   "cell_type": "code",
   "execution_count": 28,
   "metadata": {},
   "outputs": [
    {
     "data": {
      "image/png": "[encoded data removed]",
      "text/plain": [
       "<Figure size 432x288 with 1 Axes>"
      ]
     },
     "metadata": {
      "needs_background": "light"
     },
     "output_type": "display_data"
    },
    {
     "name": "stdout",
     "output_type": "stream",
     "text": [
      "0.00029630809248451967\n",
      "0.06076905873624883\n"
     ]
    }
   ],
   "source": [
    "# Complete train_LR function in Logisitc.py file\n",
    "loss_history, w = logistic.train_LR(X_train,y_train, eta=1e-6,batch_size=50, num_iters=5000)\n",
    "\n",
    "fig = plt.figure()\n",
    "plt.plot(loss_history)\n",
    "plt.xlabel('iterations')\n",
    "plt.ylabel('loss')\n",
    "plt.show()\n",
    "fig.savefig('LR_loss_hist.pdf')\n",
    "print(np.linalg.norm(w,ord=2)**2)\n",
    "print(loss_history[4999])"
   ]
  },
  {
   "cell_type": "code",
   "execution_count": 29,
   "metadata": {},
   "outputs": [
    {
     "name": "stdout",
     "output_type": "stream",
     "text": [
      "The percentage of misclassified points in the test data for logistic regression is 2.4%.\n"
     ]
    }
   ],
   "source": [
    "# Complete predict function in Logisitc.py file and compute the percentage of misclassified points in the test data\n",
    "y_pred_test = logistic.predict(X_test)\n",
    "num_missed = np.sum(y_test != y_pred_test)\n",
    "print('The percentage of misclassified points in the test data for logistic regression is {}%.' \\\n",
    "      .format(100 * num_missed / (X_test.shape[0])))"
   ]
  },
  {
   "cell_type": "code",
   "execution_count": 30,
   "metadata": {},
   "outputs": [
    {
     "data": {
      "image/png": "[encoded data removed]",
      "text/plain": [
       "<Figure size 432x288 with 1 Axes>"
      ]
     },
     "metadata": {
      "needs_background": "light"
     },
     "output_type": "display_data"
    }
   ],
   "source": [
    "Batch = [1, 50 , 100, 300]\n",
    "test_err = np.zeros((len(Batch),1))\n",
    "# ================================================================ #\n",
    "# YOUR CODE HERE:\n",
    "# Train the Logistic regression for different batch size Avergae the test error over 10 times\n",
    "# ================================================================ #\n",
    "for t in range (0,10):\n",
    "    for m in range(0,len(Batch)):\n",
    "        batch_size = Batch[m]\n",
    "        num_iters = int(np.ceil(8000 / batch_size))\n",
    "        \n",
    "        logistic = Logistic(d=d, reg_param=0)\n",
    "        loss_history, w = logistic.train_LR(X_train,y_train, eta=1e-5, batch_size=batch_size, num_iters=num_iters)\n",
    "        \n",
    "        # compute the test error\n",
    "        y_pred_test = logistic.predict(X_test)\n",
    "        num_missed = np.sum(y_test != y_pred_test)\n",
    "        test_err[m] += (num_missed / X_test.shape[0])\n",
    "\n",
    "test_err = test_err / 10\n",
    "\n",
    "# plot the test error as a function of the batch size.\n",
    "my_xticks = ['1','50','100','300']\n",
    "plt.ylabel('loss')\n",
    "plt.xlabel('Batch size')\n",
    "plt.xticks(Batch, my_xticks)\n",
    "plt.plot(Batch, test_err, 'o-')\n",
    "plt.grid()\n",
    "plt.show()\n",
    "\n",
    "# ================================================================ #\n",
    "# END YOUR CODE HERE\n",
    "# ================================================================ #\n",
    "\n"
   ]
  },
  {
   "cell_type": "markdown",
   "metadata": {},
   "source": [
    "## Train SVM\n",
    "\n",
    "In the following cells, you will build SVM. You will implement its loss function, then subsequently train it with mini-batch gradient descent. You will choose the learning rate of gradient descent to optimize its classification performance. Finally, you will get the best regularization parameter."
   ]
  },
  {
   "cell_type": "markdown",
   "metadata": {},
   "source": [
    "### SVM\n",
    "What is the final value of the loss function and the value l2 of the weight ||w||2?\n",
    "- The final value of the loss function is 0.06561583839999921\n",
    "\n",
    "- The squared norm of the weight is 0.00020058984757440003\n",
    "\n",
    "#### SVM and Batch Size\n",
    "\n",
    "Which batch size gives the minimum test error?\n",
    "\n",
    "- Batch size = 100 gives the minimum test error (This may alter.)"
   ]
  },
  {
   "cell_type": "code",
   "execution_count": 31,
   "metadata": {},
   "outputs": [],
   "source": [
    "from SVM import SVM"
   ]
  },
  {
   "cell_type": "code",
   "execution_count": 32,
   "metadata": {},
   "outputs": [
    {
     "name": "stdout",
     "output_type": "stream",
     "text": [
      "Loss function= 1.0\n",
      "315541.0761202794\n"
     ]
    }
   ],
   "source": [
    "# Complete loss_and_grad function in SVM.py file and test your results.\n",
    "N,d = X_train.shape\n",
    "svm = SVM(d=d, reg_param=0)\n",
    "loss, grad = svm.loss_and_grad(X_train,y_train)\n",
    "print('Loss function=',loss)\n",
    "print(np.linalg.norm(grad,ord=2)**2)"
   ]
  },
  {
   "cell_type": "code",
   "execution_count": 33,
   "metadata": {},
   "outputs": [
    {
     "data": {
      "image/png": "[encoded data removed]",
      "text/plain": [
       "<Figure size 432x288 with 1 Axes>"
      ]
     },
     "metadata": {
      "needs_background": "light"
     },
     "output_type": "display_data"
    },
    {
     "name": "stdout",
     "output_type": "stream",
     "text": [
      "0.00020224149632320002\n",
      "0.012977952400000214\n"
     ]
    }
   ],
   "source": [
    "# Complete train_svm function in SVM.py file \n",
    "loss_history, w = svm.train_svm(X_train,y_train, eta=1e-6,batch_size=50, num_iters=5000)\n",
    "fig = plt.figure()\n",
    "plt.plot(loss_history)\n",
    "plt.xlabel('iterations')\n",
    "plt.ylabel('loss')\n",
    "plt.show()\n",
    "fig.savefig('svm_loss_hist.pdf')\n",
    "print(np.linalg.norm(w,ord=2)**2)\n",
    "print(loss_history[4999])"
   ]
  },
  {
   "cell_type": "code",
   "execution_count": 34,
   "metadata": {},
   "outputs": [
    {
     "name": "stdout",
     "output_type": "stream",
     "text": [
      "2.2\n"
     ]
    }
   ],
   "source": [
    "# Complete predict function in SVM.py file and compute the percentage of misclassified points in the test data\n",
    "y_pred = svm.predict(X_test)\n",
    "test_err = np.sum((y_test!=y_pred))*100/X_test.shape[0]\n",
    "print(test_err)"
   ]
  },
  {
   "cell_type": "code",
   "execution_count": 45,
   "metadata": {},
   "outputs": [
    {
     "data": {
      "image/png": "[encoded data removed]",
      "text/plain": [
       "<Figure size 432x288 with 1 Axes>"
      ]
     },
     "metadata": {
      "needs_background": "light"
     },
     "output_type": "display_data"
    }
   ],
   "source": [
    "Batch = [1, 50 , 100, 300]\n",
    "test_err = np.zeros((len(Batch),1))\n",
    "# ================================================================ #\n",
    "# YOUR CODE HERE:\n",
    "# Train the SVM for different batch size Avergae the test error over 10 times\n",
    "# ================================================================ #\n",
    "for t in range (0,10):\n",
    "    for m in range(0,len(Batch)):\n",
    "        batch_size = Batch[m]\n",
    "        num_iters = int(np.ceil(8000 / batch_size))\n",
    "        \n",
    "        svm = SVM(d=d, reg_param=0)\n",
    "        loss_history, w = svm.train_svm(X_train,y_train, eta=1e-5, batch_size=batch_size, num_iters=num_iters)\n",
    "        \n",
    "        # compute the test error\n",
    "        y_pred_test = svm.predict(X_test)\n",
    "        num_missed = np.sum(y_test != y_pred_test)\n",
    "        test_err[m] += (num_missed / X_test.shape[0])\n",
    "\n",
    "test_err = test_err / 10\n",
    "\n",
    "# plot the test error as a function of the batch size.\n",
    "my_xticks = ['1','50','100','300']\n",
    "plt.ylabel('loss')\n",
    "plt.xlabel('Batch size')\n",
    "plt.xticks(Batch, my_xticks)\n",
    "plt.plot(Batch, test_err, 'o-')\n",
    "plt.grid()\n",
    "plt.show()\n",
    "        \n",
    "\n",
    "# ================================================================ #\n",
    "# END YOUR CODE HERE\n",
    "# ================================================================ #\n"
   ]
  },
  {
   "cell_type": "markdown",
   "metadata": {},
   "source": [
    "# Section \\#1.3: Multi-Class Logistic Regression and Adaboost \n",
    "\n",
    "Please follow our instructions in the same order to solve the linear regresssion problem.\n",
    "\n",
    "Please print out the entire results and codes when completed."
   ]
  },
  {
   "cell_type": "code",
   "execution_count": 46,
   "metadata": {},
   "outputs": [
    {
     "name": "stdout",
     "output_type": "stream",
     "text": [
      "Train data shape:  (60000, 784)\n",
      "Train target shape:  (60000,)\n",
      "Test data shape:  (10000, 784)\n",
      "Test target shape:  (10000,)\n"
     ]
    }
   ],
   "source": [
    "from data_loadM import load_mnist\n",
    "X_train,X_test,y_train,y_test=load_mnist()\n",
    "print('Train data shape: ', X_train.shape)\n",
    "print('Train target shape: ', y_train.shape)\n",
    "print('Test data shape: ',X_test.shape)\n",
    "print('Test target shape: ',y_test.shape)"
   ]
  },
  {
   "cell_type": "code",
   "execution_count": 47,
   "metadata": {},
   "outputs": [
    {
     "data": {
      "image/png": "[encoded data removed]",
      "text/plain": [
       "<Figure size 432x288 with 1 Axes>"
      ]
     },
     "metadata": {
      "needs_background": "light"
     },
     "output_type": "display_data"
    },
    {
     "name": "stdout",
     "output_type": "stream",
     "text": [
      "label is 7\n"
     ]
    }
   ],
   "source": [
    "# To Visualize a point in the dataset\n",
    "index = 4000\n",
    "X = np.array(X_train[index], dtype='uint8')\n",
    "X = X.reshape((28, 28))\n",
    "fig = plt.figure()\n",
    "plt.imshow(X, cmap='gray')\n",
    "plt.show()\n",
    "fig.savefig('Sample.pdf')\n",
    "print('label is', y_train[index])"
   ]
  },
  {
   "cell_type": "markdown",
   "metadata": {},
   "source": [
    "## Train Multi-Class Logistic Regression\n",
    "\n",
    "In the following cells, you will build a Multi-Class logistic regression. You will implement its loss function, then subsequently train it with gradient descent. You will implement L1 norm regularization, and choose the best regularization parameter."
   ]
  },
  {
   "cell_type": "markdown",
   "metadata": {},
   "source": [
    "### Multi-class Logistic Regression\n",
    "\n",
    "What is the final value of the loss function and the value L2 of the weight ||W||2(Frobenius norm)?\n",
    "- The final value of the loss function is 0.6152878477567971\n",
    "- The Frobenius norm of the weight is 0.013285839414363869"
   ]
  },
  {
   "cell_type": "code",
   "execution_count": 77,
   "metadata": {},
   "outputs": [],
   "source": [
    "from MLogistic import MLogistic"
   ]
  },
  {
   "cell_type": "code",
   "execution_count": 123,
   "metadata": {},
   "outputs": [
    {
     "name": "stdout",
     "output_type": "stream",
     "text": [
      "Loss function= 2.3025850929940455\n",
      "Frobenius norm of grad= 269.5714938856629\n"
     ]
    }
   ],
   "source": [
    "## Complete loss_and_grad function in Logistic.py file and test your results.\n",
    "num_classes = len(np.unique(y_train))\n",
    "num_features = X_train.shape[1]\n",
    "\n",
    "mlogistic = MLogistic(dim=[num_classes,num_features], reg_param=0)\n",
    "loss, grad = mlogistic.loss_and_grad(X_train[:5000],y_train[:5000])\n",
    "print('Loss function=',loss)\n",
    "print('Frobenius norm of grad=',np.linalg.norm(grad))\n",
    "##"
   ]
  },
  {
   "cell_type": "code",
   "execution_count": 124,
   "metadata": {},
   "outputs": [
    {
     "data": {
      "image/png": "[encoded data removed]",
      "text/plain": [
       "<Figure size 432x288 with 1 Axes>"
      ]
     },
     "metadata": {
      "needs_background": "light"
     },
     "output_type": "display_data"
    },
    {
     "name": "stdout",
     "output_type": "stream",
     "text": [
      "0.013285839414363869\n",
      "0.6152878477567971\n"
     ]
    }
   ],
   "source": [
    "## Complete train_LR function in Logistic.py file \n",
    "loss_history, w = mlogistic.train_LR(X_train,y_train, eta=1e-7,batch_size=200, num_iters=1500)\n",
    "fig = plt.figure()\n",
    "plt.plot(loss_history)\n",
    "plt.xlabel('iterations')\n",
    "plt.ylabel('Loss function')\n",
    "plt.show()\n",
    "print(np.linalg.norm(w))\n",
    "print(loss_history[1499])"
   ]
  },
  {
   "cell_type": "code",
   "execution_count": 125,
   "metadata": {},
   "outputs": [
    {
     "name": "stdout",
     "output_type": "stream",
     "text": [
      "The percentage of misclassified points in the test data for logistic regression is 13.04%.\n"
     ]
    }
   ],
   "source": [
    "# ================================================================ #\n",
    "# YOUR CODE HERE:\n",
    "#Complete predict function in Logistic.py file and compute the trainin error and the test error\n",
    "# ================================================================ #\n",
    "\n",
    "y_pred_test = mlogistic.predict(X_test)\n",
    "num_missed = np.sum(y_test != y_pred_test)\n",
    "print('The percentage of misclassified points in the test data for logistic regression is {}%.' \\\n",
    "      .format(100 * num_missed / (X_test.shape[0])))\n",
    "\n",
    "# ================================================================ #\n",
    "# END YOUR CODE HERE\n",
    "# ================================================================ #\n"
   ]
  },
  {
   "cell_type": "code",
   "execution_count": null,
   "metadata": {},
   "outputs": [],
   "source": [
    "reg = [0,1e-6,1e-3,1e-2,1e-1,1]\n",
    "train_err =np.zeros((len(reg),1))\n",
    "test_err =np.zeros((len(reg),1))\n",
    "# ================================================================ #\n",
    "# YOUR CODE HERE:\n",
    "# complete the following code to plot both the training and test loss in the same plot\n",
    "# for m range from 1 to 10\n",
    "# ================================================================ #\n",
    "for m in range(0,len(reg)):\n",
    "    pass\n",
    "    \n",
    "# ================================================================ #\n",
    "# END YOUR CODE HERE\n",
    "# ================================================================ #"
   ]
  },
  {
   "cell_type": "code",
   "execution_count": null,
   "metadata": {},
   "outputs": [],
   "source": [
    "from sklearn.tree import DecisionTreeClassifier"
   ]
  },
  {
   "cell_type": "code",
   "execution_count": null,
   "metadata": {},
   "outputs": [],
   "source": [
    "T = 200\n",
    "N = X_train.shape[0]\n",
    "num_classes = len(np.unique(y_train))\n",
    "num_features = X_train.shape[1]\n",
    "train_err = np.zeros((T,1))\n",
    "test_err = np.zeros((T,1))\n",
    "# ================================================================ #\n",
    "# YOUR CODE HERE:\n",
    "# complete the following code to plot both the training and test loss in the same plot\n",
    "# as a function of number of classifiers T for Adaboost Algorithm. \n",
    "# ================================================================ #\n",
    "\n",
    "#Initialize\n",
    "\n",
    "for t in range(0,T):\n",
    "    #Train decision Tree\n",
    "    \n",
    "    #Compute error\n",
    "    \n",
    "    #Compute \\alpha\n",
    "    \n",
    "    #Update weights\n",
    "    \n",
    "    #Predict using Last t classifiers\n",
    "    \n",
    "    #compute test error and train error\n",
    "    \n",
    "# Plot test error and train error in the same plot vs T\n",
    "\n",
    "# ================================================================ #\n",
    "# END YOUR CODE HERE\n",
    "# ================================================================ #\n"
   ]
  }
 ],
 "metadata": {
  "kernelspec": {
   "display_name": "Python 3",
   "language": "python",
   "name": "python3"
  },
  "language_info": {
   "codemirror_mode": {
    "name": "ipython",
    "version": 3
   },
   "file_extension": ".py",
   "mimetype": "text/x-python",
   "name": "python",
   "nbconvert_exporter": "python",
   "pygments_lexer": "ipython3",
   "version": "3.8.5"
  }
 },
 "nbformat": 4,
 "nbformat_minor": 4
}
